{
 "cells": [
  {
   "cell_type": "code",
   "execution_count": 1,
   "id": "c03a80a1",
   "metadata": {},
   "outputs": [],
   "source": [
    "import numpy as np \n",
    "import os\n",
    "import skimage.io as io\n",
    "import skimage.transform as trans\n",
    "import numpy as np\n",
    "#import tensorflow as tf\n",
    "from tensorflow.keras.models import *\n",
    "from tensorflow.keras.layers import *\n",
    "from tensorflow.keras.optimizers import *\n",
    "from tensorflow.keras.callbacks import ModelCheckpoint, LearningRateScheduler\n",
    "from tensorflow.keras import backend as keras\n",
    "from tensorflow.image import resize\n",
    "\n",
    "from sklearn.model_selection import train_test_split\n",
    "import matplotlib.pyplot as plt"
   ]
  },
  {
   "cell_type": "code",
   "execution_count": 2,
   "id": "40bd7861",
   "metadata": {},
   "outputs": [],
   "source": [
    "os.environ[\"CUDA_VISIBLE_DEVICES\"]=\"-1\"    \n",
    "import tensorflow as tf"
   ]
  },
  {
   "cell_type": "code",
   "execution_count": 3,
   "id": "caef0341",
   "metadata": {},
   "outputs": [
    {
     "data": {
      "text/plain": [
       "[]"
      ]
     },
     "execution_count": 3,
     "metadata": {},
     "output_type": "execute_result"
    }
   ],
   "source": [
    "tf.config.list_physical_devices('GPU')"
   ]
  },
  {
   "cell_type": "code",
   "execution_count": 4,
   "id": "e7d78c9f",
   "metadata": {},
   "outputs": [
    {
     "name": "stdout",
     "output_type": "stream",
     "text": [
      "My computer has the following devices: [PhysicalDevice(name='/physical_device:CPU:0', device_type='CPU')]\n"
     ]
    }
   ],
   "source": [
    "devices = tf.config.list_physical_devices()\n",
    "print(f'My computer has the following devices: {devices}')"
   ]
  },
  {
   "cell_type": "code",
   "execution_count": 5,
   "id": "d14a7ece",
   "metadata": {},
   "outputs": [
    {
     "name": "stdout",
     "output_type": "stream",
     "text": [
      "Num GPUs Available:  0\n"
     ]
    }
   ],
   "source": [
    "print(\"Num GPUs Available: \", len(tf.config.list_physical_devices('GPU')))"
   ]
  },
  {
   "cell_type": "markdown",
   "id": "268b37e1",
   "metadata": {},
   "source": [
    "### Setup"
   ]
  },
  {
   "cell_type": "markdown",
   "id": "3cc97b59",
   "metadata": {},
   "source": [
    "def unet(pretrained_weights = None,input_size = (256,256,1)):\n",
    "    inputs = Input(input_size)\n",
    "    conv1 = Conv2D(64, 3, activation = 'relu', padding = 'same', kernel_initializer = 'he_normal')(inputs)\n",
    "    conv1 = Conv2D(64, 3, activation = 'relu', padding = 'same', kernel_initializer = 'he_normal')(conv1)\n",
    "    pool1 = MaxPooling2D(pool_size=(2, 2))(conv1)\n",
    "    conv2 = Conv2D(128, 3, activation = 'relu', padding = 'same', kernel_initializer = 'he_normal')(pool1)\n",
    "    conv2 = Conv2D(128, 3, activation = 'relu', padding = 'same', kernel_initializer = 'he_normal')(conv2)\n",
    "    pool2 = MaxPooling2D(pool_size=(2, 2))(conv2)\n",
    "    conv3 = Conv2D(256, 3, activation = 'relu', padding = 'same', kernel_initializer = 'he_normal')(pool2)\n",
    "    conv3 = Conv2D(256, 3, activation = 'relu', padding = 'same', kernel_initializer = 'he_normal')(conv3)\n",
    "    pool3 = MaxPooling2D(pool_size=(2, 2))(conv3)\n",
    "    conv4 = Conv2D(512, 3, activation = 'relu', padding = 'same', kernel_initializer = 'he_normal')(pool3)\n",
    "    conv4 = Conv2D(512, 3, activation = 'relu', padding = 'same', kernel_initializer = 'he_normal')(conv4)\n",
    "    drop4 = Dropout(0.5)(conv4)\n",
    "    pool4 = MaxPooling2D(pool_size=(2, 2))(drop4)\n",
    "\n",
    "    conv5 = Conv2D(1024, 3, activation = 'relu', padding = 'same', kernel_initializer = 'he_normal')(pool4)\n",
    "    conv5 = Conv2D(1024, 3, activation = 'relu', padding = 'same', kernel_initializer = 'he_normal')(conv5)\n",
    "    drop5 = Dropout(0.5)(conv5)\n",
    "\n",
    "    up6 = Conv2D(512, 2, activation = 'relu', padding = 'same', kernel_initializer = 'he_normal')(UpSampling2D(size = (2,2))(drop5))\n",
    "    merge6 = concatenate([drop4,up6], axis = 3)\n",
    "    conv6 = Conv2D(512, 3, activation = 'relu', padding = 'same', kernel_initializer = 'he_normal')(merge6)\n",
    "    conv6 = Conv2D(512, 3, activation = 'relu', padding = 'same', kernel_initializer = 'he_normal')(conv6)\n",
    "\n",
    "    up7 = Conv2D(256, 2, activation = 'relu', padding = 'same', kernel_initializer = 'he_normal')(UpSampling2D(size = (2,2))(conv6))\n",
    "    merge7 = concatenate([conv3,up7], axis = 3)\n",
    "    conv7 = Conv2D(256, 3, activation = 'relu', padding = 'same', kernel_initializer = 'he_normal')(merge7)\n",
    "    conv7 = Conv2D(256, 3, activation = 'relu', padding = 'same', kernel_initializer = 'he_normal')(conv7)\n",
    "\n",
    "    up8 = Conv2D(128, 2, activation = 'relu', padding = 'same', kernel_initializer = 'he_normal')(UpSampling2D(size = (2,2))(conv7))\n",
    "    merge8 = concatenate([conv2,up8], axis = 3)\n",
    "    conv8 = Conv2D(128, 3, activation = 'relu', padding = 'same', kernel_initializer = 'he_normal')(merge8)\n",
    "    conv8 = Conv2D(128, 3, activation = 'relu', padding = 'same', kernel_initializer = 'he_normal')(conv8)\n",
    "\n",
    "    up9 = Conv2D(64, 2, activation = 'relu', padding = 'same', kernel_initializer = 'he_normal')(UpSampling2D(size = (2,2))(conv8))\n",
    "    merge9 = concatenate([conv1,up9], axis = 3)\n",
    "    conv9 = Conv2D(64, 3, activation = 'relu', padding = 'same', kernel_initializer = 'he_normal')(merge9)\n",
    "    conv9 = Conv2D(64, 3, activation = 'relu', padding = 'same', kernel_initializer = 'he_normal')(conv9)\n",
    "    conv9 = Conv2D(2, 3, activation = 'relu', padding = 'same', kernel_initializer = 'he_normal')(conv9)\n",
    "    conv10 = Conv2D(1, 1, activation = 'sigmoid')(conv9)\n",
    "\n",
    "    model = Model(input = inputs, output = conv10)\n",
    "\n",
    "    model.compile(optimizer = Adam(lr = 1e-4), loss = 'binary_crossentropy', metrics = ['accuracy'])\n",
    "    \n",
    "    #model.summary()\n",
    "\n",
    "    if(pretrained_weights):\n",
    "    \tmodel.load_weights(pretrained_weights)\n",
    "\n",
    "    return model"
   ]
  },
  {
   "cell_type": "code",
   "execution_count": 6,
   "id": "57b6a981",
   "metadata": {},
   "outputs": [],
   "source": [
    "def unet(pretrained_weights = None,input_size = (400,400,1)):\n",
    "    \n",
    "    inputs = Input(input_size)\n",
    "    \n",
    "    \n",
    "    conv1 = Conv2D(64, 3, activation = 'relu', padding = 'same')(inputs)\n",
    "    conv1 = BatchNormalization()(conv1)\n",
    "    conv1 = Conv2D(64, 3, activation = 'relu', padding = 'same')(conv1)\n",
    "    conv1 = BatchNormalization()(conv1)\n",
    "    pool1 = MaxPooling2D(pool_size=(2, 2))(conv1)\n",
    "    \n",
    "    conv2 = Conv2D(128, 3, activation = 'relu', padding = 'same')(pool1)\n",
    "    conv2 = BatchNormalization()(conv2)\n",
    "    conv2 = Conv2D(128, 3, activation = 'relu', padding = 'same')(conv2)\n",
    "    conv2 = BatchNormalization()(conv2)\n",
    "    pool2 = MaxPooling2D(pool_size=(2, 2))(conv2)\n",
    "    \n",
    "    conv3 = Conv2D(256, 3, activation = 'relu', padding = 'same')(pool2)\n",
    "    conv3 = BatchNormalization()(conv3)\n",
    "    conv3 = Conv2D(256, 3, activation = 'relu', padding = 'same')(conv3)\n",
    "    conv3 = BatchNormalization()(conv3)\n",
    "    pool3 = MaxPooling2D(pool_size=(2, 2))(conv3)\n",
    "    \n",
    "    conv4 = Conv2D(512, 3, activation = 'relu', padding = 'same')(pool3)\n",
    "    conv4 = BatchNormalization()(conv4)\n",
    "    conv4 = Conv2D(512, 3, activation = 'relu', padding = 'same')(conv4)\n",
    "    conv4 = BatchNormalization()(conv4)\n",
    "    #conv4 = Dropout(0.5)(conv4)\n",
    "    pool4 = MaxPooling2D(pool_size=(2, 2))(conv4)\n",
    "\n",
    "    conv5 = Conv2D(1024, 3, activation = 'relu', padding = 'same')(pool4)\n",
    "    conv5 = BatchNormalization()(conv5)\n",
    "    conv5 = Conv2D(1024, 3, activation = 'relu', padding = 'same')(conv5)\n",
    "    conv5 = BatchNormalization()(conv5)\n",
    "    #conv5 = Dropout(0.5)(conv5)\n",
    "    \n",
    "    \n",
    "    #up6 = UpSampling2D(size = (2,2))(conv5)\n",
    "    up6 = Conv2D(512, 2, activation = 'relu', padding = 'same', kernel_initializer = 'he_normal')(UpSampling2D(size = (2,2), interpolation = 'bilinear')(conv5))\n",
    "    merge6 = concatenate([conv4,up6])\n",
    "    conv6 = Conv2D(512, 3, activation = 'relu', padding = 'same')(merge6)\n",
    "    conv6 = BatchNormalization()(conv6)\n",
    "    conv6 = Conv2D(512, 3, activation = 'relu', padding = 'same')(conv6)\n",
    "    conv6 = BatchNormalization()(conv6)\n",
    "    \n",
    "    #up7 = UpSampling2D(size = (2,2))(conv6)\n",
    "    up7 = Conv2D(256, 2, activation = 'relu', padding = 'same', kernel_initializer = 'he_normal')(UpSampling2D(size = (2,2), interpolation = 'bilinear')(conv6))\n",
    "    merge7 = concatenate([conv3,up7])\n",
    "    conv7 = Conv2D(256, 3, activation = 'relu', padding = 'same')(merge7)\n",
    "    conv7 = BatchNormalization()(conv7)\n",
    "    conv7 = Conv2D(256, 3, activation = 'relu', padding = 'same')(conv7)\n",
    "    conv7 = BatchNormalization()(conv7)\n",
    "    \n",
    "    \n",
    "    #up8 = UpSampling2D(size = (2,2))(conv7)\n",
    "    up8 = Conv2D(128, 2, activation = 'relu', padding = 'same', kernel_initializer = 'he_normal')(UpSampling2D(size = (2,2), interpolation = 'bilinear')(conv7))\n",
    "    merge8 = concatenate([conv2,up8])\n",
    "    conv8 = Conv2D(128, 3, activation = 'relu', padding = 'same')(merge8)\n",
    "    conv8 = BatchNormalization()(conv8)\n",
    "    conv8 = Conv2D(128, 3, activation = 'relu', padding = 'same')(conv8)\n",
    "    conv8 = BatchNormalization()(conv8)\n",
    "    \n",
    "    \n",
    "    #up9 = UpSampling2D(size = (2,2))(conv8)\n",
    "    up9 = Conv2D(64, 2, activation = 'relu', padding = 'same', kernel_initializer = 'he_normal')(UpSampling2D(size = (2,2), interpolation = 'bilinear')(conv8))\n",
    "    merge9 = concatenate([conv1,up9])\n",
    "    conv9 = Conv2D(64, 3, activation = 'relu', padding = 'same')(merge9)\n",
    "    conv9 = BatchNormalization()(conv9)\n",
    "    conv9 = Conv2D(64, 3, activation = 'relu', padding = 'same')(conv9)\n",
    "    conv9 = BatchNormalization()(conv9)\n",
    "    \n",
    "    \n",
    "    #conv9 = Conv2D(2, 3, activation = 'relu', padding = 'same', kernel_initializer = 'he_normal')(conv9)\n",
    "    #conv10 = Conv2D(1, 1, activation = 'sigmoid')(conv9)\n",
    "\n",
    "    \n",
    "    \n",
    "    up10 = UpSampling2D(size = (2,2))(conv9)\n",
    "    \n",
    "    conv10 = Conv2D(64, 3, activation = 'relu', padding = 'same')(conv9)\n",
    "    conv10 = BatchNormalization()(conv10)\n",
    "    conv10 = Conv2D(1, 1, activation = 'relu', padding = 'same')(conv10)\n",
    "    #conv10 = BatchNormalization()(conv10)\n",
    "    #conv10 = Conv2D(1, 1, activation = 'relu')(conv10)\n",
    "   \n",
    "    model = Model(inputs = inputs, outputs = conv10)\n",
    "    \n",
    "    rmsprop = RMSprop(\n",
    "        learning_rate=0.001,\n",
    "        momentum=0.9,\n",
    "        epsilon=1e-08\n",
    "    )\n",
    "        \n",
    "    loss = tf.keras.losses.mse   \n",
    "    model.compile(optimizer = rmsprop, loss = loss, metrics = ['acc'])\n",
    "    #model.compile(optimizer = Adam(lr = 1e-4), loss = 'binary_crossentropy', metrics = ['accuracy'])\n",
    "    \n",
    "    model.summary()\n",
    "\n",
    "    #if(pretrained_weights):\n",
    "    #model.load_weights(pretrained_weights)\n",
    "\n",
    "    return model"
   ]
  },
  {
   "cell_type": "markdown",
   "id": "135b523b",
   "metadata": {},
   "source": [
    "### Training"
   ]
  },
  {
   "cell_type": "code",
   "execution_count": 7,
   "id": "d8602aa3",
   "metadata": {},
   "outputs": [],
   "source": [
    "import mat73"
   ]
  },
  {
   "cell_type": "code",
   "execution_count": 8,
   "id": "44053f88",
   "metadata": {},
   "outputs": [
    {
     "name": "stdout",
     "output_type": "stream",
     "text": [
      "(2250, 400, 400, 1)\n",
      "(2250, 400, 400, 1)\n"
     ]
    }
   ],
   "source": [
    "X_new = mat73.loadmat('X.mat')\n",
    "Y_new = mat73.loadmat('Y.mat')\n",
    "\n",
    "X_new = np.array(X_new['X'])\n",
    "Y_new = np.array(Y_new['Y'])\n",
    "\n",
    "#scaler_X = MinMaxScaler((0,255))\n",
    "#scaler_Y = MinMaxScaler((0,255))\n",
    "\n",
    "X = np.ndarray((2250,400,400))\n",
    "Y = np.ndarray((2250,400,400))\n",
    "\n",
    "for i in range(X_new.shape[2]):\n",
    "    \n",
    "    #scaler_X.fit(X_new[:,:,i])\n",
    "    #scaler_Y.fit(Y_new[:,:,i])\n",
    "    #X[i,:,:] = scaler_X.transform(X_new[:,:,i])\n",
    "    #Y[i,:,:] = scaler_Y.transform(Y_new[:,:,i])\n",
    "    x = X_new[:,:,i]\n",
    "    y = Y_new[:,:,i]\n",
    "    \n",
    "    x[x < 0] = 0\n",
    "    y[y < 0] = 0\n",
    "    \n",
    "    X[i,:,:] = x\n",
    "    Y[i,:,:] = y\n",
    "    \n",
    "X = np.expand_dims(X,axis=3)\n",
    "Y = np.expand_dims(Y,axis=3)\n",
    "print(np.shape(X))\n",
    "print(np.shape(Y))"
   ]
  },
  {
   "cell_type": "code",
   "execution_count": 9,
   "id": "37fcc9d6",
   "metadata": {
    "scrolled": true
   },
   "outputs": [
    {
     "name": "stdout",
     "output_type": "stream",
     "text": [
      "Model: \"model\"\n",
      "__________________________________________________________________________________________________\n",
      "Layer (type)                    Output Shape         Param #     Connected to                     \n",
      "==================================================================================================\n",
      "input_1 (InputLayer)            [(None, 400, 400, 1) 0                                            \n",
      "__________________________________________________________________________________________________\n",
      "conv2d (Conv2D)                 (None, 400, 400, 64) 640         input_1[0][0]                    \n",
      "__________________________________________________________________________________________________\n",
      "batch_normalization (BatchNorma (None, 400, 400, 64) 256         conv2d[0][0]                     \n",
      "__________________________________________________________________________________________________\n",
      "conv2d_1 (Conv2D)               (None, 400, 400, 64) 36928       batch_normalization[0][0]        \n",
      "__________________________________________________________________________________________________\n",
      "batch_normalization_1 (BatchNor (None, 400, 400, 64) 256         conv2d_1[0][0]                   \n",
      "__________________________________________________________________________________________________\n",
      "max_pooling2d (MaxPooling2D)    (None, 200, 200, 64) 0           batch_normalization_1[0][0]      \n",
      "__________________________________________________________________________________________________\n",
      "conv2d_2 (Conv2D)               (None, 200, 200, 128 73856       max_pooling2d[0][0]              \n",
      "__________________________________________________________________________________________________\n",
      "batch_normalization_2 (BatchNor (None, 200, 200, 128 512         conv2d_2[0][0]                   \n",
      "__________________________________________________________________________________________________\n",
      "conv2d_3 (Conv2D)               (None, 200, 200, 128 147584      batch_normalization_2[0][0]      \n",
      "__________________________________________________________________________________________________\n",
      "batch_normalization_3 (BatchNor (None, 200, 200, 128 512         conv2d_3[0][0]                   \n",
      "__________________________________________________________________________________________________\n",
      "max_pooling2d_1 (MaxPooling2D)  (None, 100, 100, 128 0           batch_normalization_3[0][0]      \n",
      "__________________________________________________________________________________________________\n",
      "conv2d_4 (Conv2D)               (None, 100, 100, 256 295168      max_pooling2d_1[0][0]            \n",
      "__________________________________________________________________________________________________\n",
      "batch_normalization_4 (BatchNor (None, 100, 100, 256 1024        conv2d_4[0][0]                   \n",
      "__________________________________________________________________________________________________\n",
      "conv2d_5 (Conv2D)               (None, 100, 100, 256 590080      batch_normalization_4[0][0]      \n",
      "__________________________________________________________________________________________________\n",
      "batch_normalization_5 (BatchNor (None, 100, 100, 256 1024        conv2d_5[0][0]                   \n",
      "__________________________________________________________________________________________________\n",
      "max_pooling2d_2 (MaxPooling2D)  (None, 50, 50, 256)  0           batch_normalization_5[0][0]      \n",
      "__________________________________________________________________________________________________\n",
      "conv2d_6 (Conv2D)               (None, 50, 50, 512)  1180160     max_pooling2d_2[0][0]            \n",
      "__________________________________________________________________________________________________\n",
      "batch_normalization_6 (BatchNor (None, 50, 50, 512)  2048        conv2d_6[0][0]                   \n",
      "__________________________________________________________________________________________________\n",
      "conv2d_7 (Conv2D)               (None, 50, 50, 512)  2359808     batch_normalization_6[0][0]      \n",
      "__________________________________________________________________________________________________\n",
      "batch_normalization_7 (BatchNor (None, 50, 50, 512)  2048        conv2d_7[0][0]                   \n",
      "__________________________________________________________________________________________________\n",
      "max_pooling2d_3 (MaxPooling2D)  (None, 25, 25, 512)  0           batch_normalization_7[0][0]      \n",
      "__________________________________________________________________________________________________\n",
      "conv2d_8 (Conv2D)               (None, 25, 25, 1024) 4719616     max_pooling2d_3[0][0]            \n",
      "__________________________________________________________________________________________________\n",
      "batch_normalization_8 (BatchNor (None, 25, 25, 1024) 4096        conv2d_8[0][0]                   \n",
      "__________________________________________________________________________________________________\n",
      "conv2d_9 (Conv2D)               (None, 25, 25, 1024) 9438208     batch_normalization_8[0][0]      \n",
      "__________________________________________________________________________________________________\n",
      "batch_normalization_9 (BatchNor (None, 25, 25, 1024) 4096        conv2d_9[0][0]                   \n",
      "__________________________________________________________________________________________________\n",
      "up_sampling2d (UpSampling2D)    (None, 50, 50, 1024) 0           batch_normalization_9[0][0]      \n",
      "__________________________________________________________________________________________________\n",
      "conv2d_10 (Conv2D)              (None, 50, 50, 512)  2097664     up_sampling2d[0][0]              \n",
      "__________________________________________________________________________________________________\n",
      "concatenate (Concatenate)       (None, 50, 50, 1024) 0           batch_normalization_7[0][0]      \n",
      "                                                                 conv2d_10[0][0]                  \n",
      "__________________________________________________________________________________________________\n",
      "conv2d_11 (Conv2D)              (None, 50, 50, 512)  4719104     concatenate[0][0]                \n",
      "__________________________________________________________________________________________________\n",
      "batch_normalization_10 (BatchNo (None, 50, 50, 512)  2048        conv2d_11[0][0]                  \n",
      "__________________________________________________________________________________________________\n",
      "conv2d_12 (Conv2D)              (None, 50, 50, 512)  2359808     batch_normalization_10[0][0]     \n",
      "__________________________________________________________________________________________________\n",
      "batch_normalization_11 (BatchNo (None, 50, 50, 512)  2048        conv2d_12[0][0]                  \n",
      "__________________________________________________________________________________________________\n",
      "up_sampling2d_1 (UpSampling2D)  (None, 100, 100, 512 0           batch_normalization_11[0][0]     \n",
      "__________________________________________________________________________________________________\n",
      "conv2d_13 (Conv2D)              (None, 100, 100, 256 524544      up_sampling2d_1[0][0]            \n",
      "__________________________________________________________________________________________________\n",
      "concatenate_1 (Concatenate)     (None, 100, 100, 512 0           batch_normalization_5[0][0]      \n",
      "                                                                 conv2d_13[0][0]                  \n",
      "__________________________________________________________________________________________________\n",
      "conv2d_14 (Conv2D)              (None, 100, 100, 256 1179904     concatenate_1[0][0]              \n",
      "__________________________________________________________________________________________________\n",
      "batch_normalization_12 (BatchNo (None, 100, 100, 256 1024        conv2d_14[0][0]                  \n",
      "__________________________________________________________________________________________________\n",
      "conv2d_15 (Conv2D)              (None, 100, 100, 256 590080      batch_normalization_12[0][0]     \n",
      "__________________________________________________________________________________________________\n",
      "batch_normalization_13 (BatchNo (None, 100, 100, 256 1024        conv2d_15[0][0]                  \n",
      "__________________________________________________________________________________________________\n",
      "up_sampling2d_2 (UpSampling2D)  (None, 200, 200, 256 0           batch_normalization_13[0][0]     \n",
      "__________________________________________________________________________________________________\n",
      "conv2d_16 (Conv2D)              (None, 200, 200, 128 131200      up_sampling2d_2[0][0]            \n",
      "__________________________________________________________________________________________________\n",
      "concatenate_2 (Concatenate)     (None, 200, 200, 256 0           batch_normalization_3[0][0]      \n",
      "                                                                 conv2d_16[0][0]                  \n",
      "__________________________________________________________________________________________________\n",
      "conv2d_17 (Conv2D)              (None, 200, 200, 128 295040      concatenate_2[0][0]              \n",
      "__________________________________________________________________________________________________\n",
      "batch_normalization_14 (BatchNo (None, 200, 200, 128 512         conv2d_17[0][0]                  \n",
      "__________________________________________________________________________________________________\n",
      "conv2d_18 (Conv2D)              (None, 200, 200, 128 147584      batch_normalization_14[0][0]     \n",
      "__________________________________________________________________________________________________\n",
      "batch_normalization_15 (BatchNo (None, 200, 200, 128 512         conv2d_18[0][0]                  \n",
      "__________________________________________________________________________________________________\n",
      "up_sampling2d_3 (UpSampling2D)  (None, 400, 400, 128 0           batch_normalization_15[0][0]     \n",
      "__________________________________________________________________________________________________\n",
      "conv2d_19 (Conv2D)              (None, 400, 400, 64) 32832       up_sampling2d_3[0][0]            \n",
      "__________________________________________________________________________________________________\n",
      "concatenate_3 (Concatenate)     (None, 400, 400, 128 0           batch_normalization_1[0][0]      \n",
      "                                                                 conv2d_19[0][0]                  \n",
      "__________________________________________________________________________________________________\n",
      "conv2d_20 (Conv2D)              (None, 400, 400, 64) 73792       concatenate_3[0][0]              \n",
      "__________________________________________________________________________________________________\n",
      "batch_normalization_16 (BatchNo (None, 400, 400, 64) 256         conv2d_20[0][0]                  \n",
      "__________________________________________________________________________________________________\n",
      "conv2d_21 (Conv2D)              (None, 400, 400, 64) 36928       batch_normalization_16[0][0]     \n",
      "__________________________________________________________________________________________________\n",
      "batch_normalization_17 (BatchNo (None, 400, 400, 64) 256         conv2d_21[0][0]                  \n",
      "__________________________________________________________________________________________________\n",
      "conv2d_22 (Conv2D)              (None, 400, 400, 64) 36928       batch_normalization_17[0][0]     \n",
      "__________________________________________________________________________________________________\n",
      "batch_normalization_18 (BatchNo (None, 400, 400, 64) 256         conv2d_22[0][0]                  \n",
      "__________________________________________________________________________________________________\n",
      "conv2d_23 (Conv2D)              (None, 400, 400, 1)  65          batch_normalization_18[0][0]     \n",
      "==================================================================================================\n",
      "Total params: 31,091,329\n",
      "Trainable params: 31,079,425\n",
      "Non-trainable params: 11,904\n",
      "__________________________________________________________________________________________________\n"
     ]
    }
   ],
   "source": [
    "model = unet()\n"
   ]
  },
  {
   "cell_type": "markdown",
   "id": "d97e40e7",
   "metadata": {},
   "source": [
    "X = resize(X, [256,256])"
   ]
  },
  {
   "cell_type": "markdown",
   "id": "67075281",
   "metadata": {},
   "source": [
    "X = tf.image.resize(X,[256,256]).numpy()\n",
    "Y = tf.image.resize(Y,[256,256]).numpy()\n",
    "print(np.shape(X))\n",
    "print(np.shape(Y))"
   ]
  },
  {
   "cell_type": "code",
   "execution_count": 10,
   "id": "d3fc903c",
   "metadata": {
    "scrolled": true
   },
   "outputs": [
    {
     "name": "stdout",
     "output_type": "stream",
     "text": [
      "X_train, X_test, y_train, y_test = 1800, 450,1800,450\n",
      "X_train, X_val, X_test, y_train,y_val, y_test = 1800, 225, 225,1800,225,225\n"
     ]
    }
   ],
   "source": [
    "X_train, X_test, y_train, y_test = train_test_split(X, Y, test_size=0.2)\n",
    "print(f'X_train, X_test, y_train, y_test = {len(X_train)}, {len(X_test)},{len(y_train)},{len(y_test)}')\n",
    "\n",
    "X_val, X_test, y_val, y_test = train_test_split(X_test, y_test, test_size=0.5)\n",
    "\n",
    "print(f'X_train, X_val, X_test, y_train,y_val, y_test = {len(X_train)}, {len(X_val)}, {len(X_test)},{len(y_train)},{len(y_val)},{len(y_test)}')\n",
    "\n",
    "\n"
   ]
  },
  {
   "cell_type": "code",
   "execution_count": 11,
   "id": "5d3c76e7",
   "metadata": {},
   "outputs": [
    {
     "data": {
      "text/plain": [
       "<matplotlib.image.AxesImage at 0x1a7d06f1940>"
      ]
     },
     "execution_count": 11,
     "metadata": {},
     "output_type": "execute_result"
    },
    {
     "data": {
      "image/png": "[encoded data removed]",
      "text/plain": [
       "<Figure size 432x288 with 1 Axes>"
      ]
     },
     "metadata": {
      "needs_background": "light"
     },
     "output_type": "display_data"
    }
   ],
   "source": [
    "plt.imshow(X_train[12,:,:,:])"
   ]
  },
  {
   "cell_type": "code",
   "execution_count": 12,
   "id": "65c70b5a",
   "metadata": {},
   "outputs": [
    {
     "data": {
      "text/plain": [
       "<matplotlib.image.AxesImage at 0x1a7d0aec880>"
      ]
     },
     "execution_count": 12,
     "metadata": {},
     "output_type": "execute_result"
    },
    {
     "data": {
      "image/png": "[encoded data removed]",
      "text/plain": [
       "<Figure size 432x288 with 1 Axes>"
      ]
     },
     "metadata": {
      "needs_background": "light"
     },
     "output_type": "display_data"
    }
   ],
   "source": [
    "plt.imshow(y_train[12,:,:,:])"
   ]
  },
  {
   "cell_type": "markdown",
   "id": "b0f4199a",
   "metadata": {},
   "source": [
    "tf.config.experimental_run_functions_eagerly(True)"
   ]
  },
  {
   "cell_type": "code",
   "execution_count": 12,
   "id": "d3b52864",
   "metadata": {
    "scrolled": false
   },
   "outputs": [
    {
     "name": "stdout",
     "output_type": "stream",
     "text": [
      "Epoch 1/50\n",
      "900/900 [==============================] - 191s 202ms/step - loss: 3760953.5000 - acc: 0.0025 - val_loss: 4183535.5000 - val_acc: 0.0161\n",
      "Epoch 2/50\n",
      "900/900 [==============================] - 180s 200ms/step - loss: 1768495.6250 - acc: 0.0103 - val_loss: 2635366.0000 - val_acc: 0.0160\n",
      "Epoch 3/50\n",
      "900/900 [==============================] - 180s 200ms/step - loss: 1273783.7500 - acc: 0.0140 - val_loss: 1259866.6250 - val_acc: 0.0161\n",
      "Epoch 4/50\n",
      "900/900 [==============================] - 180s 200ms/step - loss: 1160429.6250 - acc: 0.0148 - val_loss: 4114669.5000 - val_acc: 0.0161\n",
      "Epoch 5/50\n",
      "900/900 [==============================] - 180s 200ms/step - loss: 721682.6875 - acc: 0.0150 - val_loss: 328643985276928.0000 - val_acc: 3.3772e-04\n",
      "Epoch 6/50\n",
      "900/900 [==============================] - 181s 201ms/step - loss: 543545.0000 - acc: 0.0151 - val_loss: 10769113.0000 - val_acc: 0.0161\n",
      "Epoch 7/50\n",
      "900/900 [==============================] - 180s 201ms/step - loss: 428416.8438 - acc: 0.0150 - val_loss: 3070866.2500 - val_acc: 0.0080\n",
      "Epoch 8/50\n",
      "900/900 [==============================] - 181s 201ms/step - loss: 360911.0312 - acc: 0.0148 - val_loss: 115836952576.0000 - val_acc: 0.0161\n",
      "Epoch 9/50\n",
      "900/900 [==============================] - 181s 201ms/step - loss: 263799.5000 - acc: 0.0151 - val_loss: 72575360935395328.0000 - val_acc: 0.0161\n",
      "Epoch 10/50\n",
      "900/900 [==============================] - 181s 201ms/step - loss: 230560.3750 - acc: 0.0152 - val_loss: 1259780840687140864.0000 - val_acc: 0.0160\n",
      "Epoch 11/50\n",
      "900/900 [==============================] - 181s 201ms/step - loss: 199401.3281 - acc: 0.0152 - val_loss: 684155273216.0000 - val_acc: 0.0161\n",
      "Epoch 12/50\n",
      "900/900 [==============================] - 181s 201ms/step - loss: 176043.3438 - acc: 0.0153 - val_loss: 13807604349448224768.0000 - val_acc: 0.0160\n",
      "Epoch 13/50\n",
      "900/900 [==============================] - 180s 200ms/step - loss: 149546.2812 - acc: 0.0153 - val_loss: 1687818397024256.0000 - val_acc: 0.0157\n",
      "Epoch 14/50\n",
      "900/900 [==============================] - 181s 201ms/step - loss: 134164.1562 - acc: 0.0154 - val_loss: 228228249813184937984.0000 - val_acc: 0.0159\n",
      "Epoch 15/50\n",
      "900/900 [==============================] - 181s 201ms/step - loss: 109306.8750 - acc: 0.0154 - val_loss: 184503381573184258048.0000 - val_acc: 0.0154\n",
      "Epoch 16/50\n",
      "900/900 [==============================] - 181s 201ms/step - loss: 99458.7734 - acc: 0.0154 - val_loss: 2591368.2500 - val_acc: 0.0160\n",
      "Epoch 17/50\n",
      "900/900 [==============================] - 181s 201ms/step - loss: 86565.2734 - acc: 0.0154 - val_loss: 3047700.5000 - val_acc: 0.0160\n",
      "Epoch 18/50\n",
      "900/900 [==============================] - 181s 201ms/step - loss: 78598.8906 - acc: 0.0155 - val_loss: 4904654.0000 - val_acc: 0.0157\n",
      "Epoch 19/50\n",
      "900/900 [==============================] - 180s 200ms/step - loss: 73177.1875 - acc: 0.0155 - val_loss: 2483871.7500 - val_acc: 0.0159\n",
      "Epoch 20/50\n",
      "900/900 [==============================] - 180s 201ms/step - loss: 70288.6250 - acc: 0.0155 - val_loss: 2769805.0000 - val_acc: 0.0160\n",
      "Epoch 21/50\n",
      "900/900 [==============================] - 181s 201ms/step - loss: 61003.2266 - acc: 0.0156 - val_loss: 2517433.7500 - val_acc: 0.0160\n",
      "Epoch 22/50\n",
      "900/900 [==============================] - 180s 200ms/step - loss: 57722.1562 - acc: 0.0156 - val_loss: 132760854528.0000 - val_acc: 0.0150\n",
      "Epoch 23/50\n",
      "900/900 [==============================] - 181s 201ms/step - loss: 50024.8203 - acc: 0.0156 - val_loss: 281848096.0000 - val_acc: 0.0155\n",
      "Epoch 24/50\n",
      "900/900 [==============================] - 181s 201ms/step - loss: 48010.7227 - acc: 0.0156 - val_loss: 1740254976.0000 - val_acc: 0.0157\n",
      "Epoch 25/50\n",
      "900/900 [==============================] - 179s 199ms/step - loss: 41835.2617 - acc: 0.0156 - val_loss: 21473706182046646272.0000 - val_acc: 0.0160\n",
      "Epoch 26/50\n",
      "900/900 [==============================] - 179s 199ms/step - loss: 38314.5820 - acc: 0.0156 - val_loss: 2526918.5000 - val_acc: 0.0159\n",
      "Epoch 27/50\n",
      "900/900 [==============================] - 179s 199ms/step - loss: 40040.1797 - acc: 0.0155 - val_loss: 4258264.0000 - val_acc: 0.0160\n",
      "Epoch 28/50\n",
      "900/900 [==============================] - 179s 199ms/step - loss: 36254.2773 - acc: 0.0156 - val_loss: 2763659.5000 - val_acc: 0.0160\n",
      "Epoch 29/50\n",
      "900/900 [==============================] - 179s 199ms/step - loss: 34623.5781 - acc: 0.0156 - val_loss: 12743227.0000 - val_acc: 0.0158\n",
      "Epoch 30/50\n",
      "900/900 [==============================] - 179s 199ms/step - loss: 33917.4414 - acc: 0.0156 - val_loss: 2275858.2500 - val_acc: 0.0144\n",
      "Epoch 31/50\n",
      "900/900 [==============================] - 179s 199ms/step - loss: 30556.2090 - acc: 0.0156 - val_loss: 2863241.7500 - val_acc: 0.0161\n",
      "Epoch 32/50\n",
      "900/900 [==============================] - 179s 199ms/step - loss: 30680.1328 - acc: 0.0156 - val_loss: 2587918080.0000 - val_acc: 0.0160\n",
      "Epoch 33/50\n",
      "900/900 [==============================] - 179s 199ms/step - loss: 27064.4102 - acc: 0.0156 - val_loss: 2649413.5000 - val_acc: 0.0160\n",
      "Epoch 34/50\n",
      "900/900 [==============================] - 179s 199ms/step - loss: 26557.7480 - acc: 0.0156 - val_loss: 6428245504.0000 - val_acc: 0.0160\n",
      "Epoch 35/50\n",
      "900/900 [==============================] - 179s 199ms/step - loss: 25074.0352 - acc: 0.0156 - val_loss: 2429178.2500 - val_acc: 0.0160\n",
      "Epoch 36/50\n",
      "900/900 [==============================] - 179s 199ms/step - loss: 24596.6172 - acc: 0.0156 - val_loss: 66359232.0000 - val_acc: 0.0159\n",
      "Epoch 37/50\n",
      "900/900 [==============================] - 179s 199ms/step - loss: 22125.2129 - acc: 0.0156 - val_loss: 2713324.2500 - val_acc: 0.0159\n",
      "Epoch 38/50\n",
      "900/900 [==============================] - 179s 199ms/step - loss: 21267.0059 - acc: 0.0156 - val_loss: 2437135.2500 - val_acc: 0.0159\n",
      "Epoch 39/50\n",
      "900/900 [==============================] - 179s 199ms/step - loss: 21491.1113 - acc: 0.0156 - val_loss: 2741746.0000 - val_acc: 0.0160\n",
      "Epoch 40/50\n",
      "900/900 [==============================] - 179s 199ms/step - loss: 20636.4297 - acc: 0.0156 - val_loss: 43483888.0000 - val_acc: 0.0160\n",
      "Epoch 41/50\n",
      "900/900 [==============================] - 179s 199ms/step - loss: 20110.1230 - acc: 0.0156 - val_loss: 2692461.7500 - val_acc: 0.0160\n",
      "Epoch 42/50\n",
      "900/900 [==============================] - 179s 199ms/step - loss: 19454.2930 - acc: 0.0156 - val_loss: 2763041.0000 - val_acc: 0.0153\n",
      "Epoch 43/50\n",
      "900/900 [==============================] - 179s 199ms/step - loss: 19372.9688 - acc: 0.0156 - val_loss: 2660905.2500 - val_acc: 0.0159\n",
      "Epoch 44/50\n",
      "900/900 [==============================] - 179s 199ms/step - loss: 19199.6660 - acc: 0.0156 - val_loss: 2662476.2500 - val_acc: 0.0159\n",
      "Epoch 45/50\n",
      "900/900 [==============================] - 179s 199ms/step - loss: 16487.3594 - acc: 0.0156 - val_loss: 3009427.2500 - val_acc: 0.0160\n",
      "Epoch 46/50\n",
      "900/900 [==============================] - 179s 199ms/step - loss: 15883.7607 - acc: 0.0156 - val_loss: 2756839.2500 - val_acc: 0.0160\n",
      "Epoch 47/50\n",
      "900/900 [==============================] - 179s 199ms/step - loss: 15976.2305 - acc: 0.0156 - val_loss: 2658981.5000 - val_acc: 0.0160\n",
      "Epoch 48/50\n",
      "900/900 [==============================] - 179s 199ms/step - loss: 15508.9922 - acc: 0.0156 - val_loss: 2504627.7500 - val_acc: 0.0155\n",
      "Epoch 49/50\n",
      "900/900 [==============================] - 180s 200ms/step - loss: 16809.4824 - acc: 0.0156 - val_loss: 2681359.0000 - val_acc: 0.0160\n",
      "Epoch 50/50\n",
      "900/900 [==============================] - 179s 199ms/step - loss: 15847.1104 - acc: 0.0156 - val_loss: 2726422.7500 - val_acc: 0.0160\n"
     ]
    }
   ],
   "source": [
    "epochs = 50\n",
    "batch_size = 2\n",
    "\n",
    "\n",
    "history = model.fit(x = X_train, y = y_train, epochs = epochs, batch_size = batch_size, validation_data=(X_val, y_val))\n",
    "\n"
   ]
  },
  {
   "cell_type": "code",
   "execution_count": 13,
   "id": "50259a0e",
   "metadata": {},
   "outputs": [],
   "source": [
    "model.save('unet_finalv15.h5')"
   ]
  },
  {
   "cell_type": "code",
   "execution_count": 13,
   "id": "48afb3b2",
   "metadata": {},
   "outputs": [],
   "source": [
    "model.load_weights('unet_finalv15.h5')"
   ]
  },
  {
   "cell_type": "code",
   "execution_count": 14,
   "id": "24abdffb",
   "metadata": {},
   "outputs": [],
   "source": [
    "output = model.predict(X_test)"
   ]
  },
  {
   "cell_type": "code",
   "execution_count": 24,
   "id": "fdf9817f",
   "metadata": {},
   "outputs": [
    {
     "data": {
      "text/plain": [
       "<matplotlib.image.AxesImage at 0x1a7d30d0c40>"
      ]
     },
     "execution_count": 24,
     "metadata": {},
     "output_type": "execute_result"
    },
    {
     "data": {
      "image/png": "[encoded data removed]",
      "text/plain": [
       "<Figure size 432x288 with 1 Axes>"
      ]
     },
     "metadata": {
      "needs_background": "light"
     },
     "output_type": "display_data"
    }
   ],
   "source": [
    "\n",
    "plt.imshow(X_test[14,:,:,:])"
   ]
  },
  {
   "cell_type": "code",
   "execution_count": 25,
   "id": "71e6bab6",
   "metadata": {},
   "outputs": [
    {
     "data": {
      "text/plain": [
       "<matplotlib.image.AxesImage at 0x1a7d3286160>"
      ]
     },
     "execution_count": 25,
     "metadata": {},
     "output_type": "execute_result"
    },
    {
     "data": {
      "image/png": "[encoded data removed]",
      "text/plain": [
       "<Figure size 432x288 with 1 Axes>"
      ]
     },
     "metadata": {
      "needs_background": "light"
     },
     "output_type": "display_data"
    }
   ],
   "source": [
    "plt.imshow(y_test[14,:,:,:])"
   ]
  },
  {
   "cell_type": "code",
   "execution_count": 26,
   "id": "b33f8f96",
   "metadata": {},
   "outputs": [
    {
     "data": {
      "text/plain": [
       "<matplotlib.image.AxesImage at 0x1a7d342c7c0>"
      ]
     },
     "execution_count": 26,
     "metadata": {},
     "output_type": "execute_result"
    },
    {
     "data": {
      "image/png": "[encoded data removed]",
      "text/plain": [
       "<Figure size 432x288 with 1 Axes>"
      ]
     },
     "metadata": {
      "needs_background": "light"
     },
     "output_type": "display_data"
    }
   ],
   "source": [
    "plt.imshow(output[14,:,:,:])"
   ]
  },
  {
   "cell_type": "code",
   "execution_count": null,
   "id": "8bbaaac0",
   "metadata": {},
   "outputs": [],
   "source": []
  }
 ],
 "metadata": {
  "kernelspec": {
   "display_name": "Python 3",
   "language": "python",
   "name": "python3"
  },
  "language_info": {
   "codemirror_mode": {
    "name": "ipython",
    "version": 3
   },
   "file_extension": ".py",
   "mimetype": "text/x-python",
   "name": "python",
   "nbconvert_exporter": "python",
   "pygments_lexer": "ipython3",
   "version": "3.8.8"
  }
 },
 "nbformat": 4,
 "nbformat_minor": 5
}
